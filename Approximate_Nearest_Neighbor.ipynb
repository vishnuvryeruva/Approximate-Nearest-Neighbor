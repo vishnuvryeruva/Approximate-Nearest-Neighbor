{
  "nbformat": 4,
  "nbformat_minor": 0,
  "metadata": {
    "colab": {
      "name": "Approximate Nearest Neighbor.ipynb",
      "provenance": [],
      "collapsed_sections": [],
      "authorship_tag": "ABX9TyPOBzauTS4H28iNLzDp/st7",
      "include_colab_link": true
    },
    "kernelspec": {
      "name": "python3",
      "display_name": "Python 3"
    },
    "language_info": {
      "name": "python"
    }
  },
  "cells": [
    {
      "cell_type": "markdown",
      "metadata": {
        "id": "view-in-github",
        "colab_type": "text"
      },
      "source": [
        "<a href=\"https://colab.research.google.com/github/vishnuvryeruva/Approximate-Nearest-Neighbor/blob/main/Approximate_Nearest_Neighbor.ipynb\" target=\"_parent\"><img src=\"https://colab.research.google.com/assets/colab-badge.svg\" alt=\"Open In Colab\"/></a>"
      ]
    },
    {
      "cell_type": "code",
      "metadata": {
        "id": "aot_buofKVpH"
      },
      "source": [
        "import numpy as np\n",
        "import matplotlib.pyplot as plt\n",
        "from sklearn.datasets import load_digits"
      ],
      "execution_count": 1,
      "outputs": []
    },
    {
      "cell_type": "code",
      "metadata": {
        "colab": {
          "base_uri": "https://localhost:8080/"
        },
        "id": "EOOh-oyBKijf",
        "outputId": "9aae7599-f7eb-4e44-cdbd-af939b68114d"
      },
      "source": [
        "! pip install nmslib"
      ],
      "execution_count": 2,
      "outputs": [
        {
          "output_type": "stream",
          "name": "stdout",
          "text": [
            "Collecting nmslib\n",
            "  Downloading nmslib-2.1.1-cp37-cp37m-manylinux2010_x86_64.whl (13.5 MB)\n",
            "\u001b[K     |████████████████████████████████| 13.5 MB 4.5 MB/s \n",
            "\u001b[?25hRequirement already satisfied: numpy>=1.10.0 in /usr/local/lib/python3.7/dist-packages (from nmslib) (1.19.5)\n",
            "Requirement already satisfied: psutil in /usr/local/lib/python3.7/dist-packages (from nmslib) (5.4.8)\n",
            "Collecting pybind11<2.6.2\n",
            "  Downloading pybind11-2.6.1-py2.py3-none-any.whl (188 kB)\n",
            "\u001b[K     |████████████████████████████████| 188 kB 69.1 MB/s \n",
            "\u001b[?25hInstalling collected packages: pybind11, nmslib\n",
            "Successfully installed nmslib-2.1.1 pybind11-2.6.1\n"
          ]
        }
      ]
    },
    {
      "cell_type": "code",
      "metadata": {
        "colab": {
          "base_uri": "https://localhost:8080/"
        },
        "id": "fN8dOsdBKnJ9",
        "outputId": "0dbef65a-3ad0-40b3-ee98-66efe12942f7"
      },
      "source": [
        "! pip install faiss"
      ],
      "execution_count": 3,
      "outputs": [
        {
          "output_type": "stream",
          "name": "stdout",
          "text": [
            "Collecting faiss\n",
            "  Downloading faiss-1.5.3-cp37-cp37m-manylinux1_x86_64.whl (4.7 MB)\n",
            "\u001b[K     |████████████████████████████████| 4.7 MB 5.4 MB/s \n",
            "\u001b[?25hRequirement already satisfied: numpy in /usr/local/lib/python3.7/dist-packages (from faiss) (1.19.5)\n",
            "Installing collected packages: faiss\n",
            "Successfully installed faiss-1.5.3\n"
          ]
        }
      ]
    },
    {
      "cell_type": "code",
      "metadata": {
        "colab": {
          "base_uri": "https://localhost:8080/"
        },
        "id": "sFu7s5QEKpj_",
        "outputId": "a0b55931-9bc2-451f-fa45-d154425b5fa8"
      },
      "source": [
        "!apt-get install libomp-dev"
      ],
      "execution_count": 4,
      "outputs": [
        {
          "output_type": "stream",
          "name": "stdout",
          "text": [
            "Reading package lists... Done\n",
            "Building dependency tree       \n",
            "Reading state information... Done\n",
            "The following additional packages will be installed:\n",
            "  libomp5\n",
            "Suggested packages:\n",
            "  libomp-doc\n",
            "The following NEW packages will be installed:\n",
            "  libomp-dev libomp5\n",
            "0 upgraded, 2 newly installed, 0 to remove and 37 not upgraded.\n",
            "Need to get 239 kB of archives.\n",
            "After this operation, 804 kB of additional disk space will be used.\n",
            "Get:1 http://archive.ubuntu.com/ubuntu bionic/universe amd64 libomp5 amd64 5.0.1-1 [234 kB]\n",
            "Get:2 http://archive.ubuntu.com/ubuntu bionic/universe amd64 libomp-dev amd64 5.0.1-1 [5,088 B]\n",
            "Fetched 239 kB in 1s (361 kB/s)\n",
            "Selecting previously unselected package libomp5:amd64.\n",
            "(Reading database ... 155222 files and directories currently installed.)\n",
            "Preparing to unpack .../libomp5_5.0.1-1_amd64.deb ...\n",
            "Unpacking libomp5:amd64 (5.0.1-1) ...\n",
            "Selecting previously unselected package libomp-dev.\n",
            "Preparing to unpack .../libomp-dev_5.0.1-1_amd64.deb ...\n",
            "Unpacking libomp-dev (5.0.1-1) ...\n",
            "Setting up libomp5:amd64 (5.0.1-1) ...\n",
            "Setting up libomp-dev (5.0.1-1) ...\n",
            "Processing triggers for libc-bin (2.27-3ubuntu1.3) ...\n",
            "/sbin/ldconfig.real: /usr/local/lib/python3.7/dist-packages/ideep4py/lib/libmkldnn.so.0 is not a symbolic link\n",
            "\n"
          ]
        }
      ]
    },
    {
      "cell_type": "code",
      "metadata": {
        "colab": {
          "base_uri": "https://localhost:8080/"
        },
        "id": "wWbK1SA_KtiZ",
        "outputId": "ef6fcac0-4f5d-4a3c-c27b-5f39aaf5a87d"
      },
      "source": [
        "! pip install annoy"
      ],
      "execution_count": 5,
      "outputs": [
        {
          "output_type": "stream",
          "name": "stdout",
          "text": [
            "Collecting annoy\n",
            "  Downloading annoy-1.17.0.tar.gz (646 kB)\n",
            "\u001b[?25l\r\u001b[K     |▌                               | 10 kB 21.7 MB/s eta 0:00:01\r\u001b[K     |█                               | 20 kB 27.8 MB/s eta 0:00:01\r\u001b[K     |█▌                              | 30 kB 12.5 MB/s eta 0:00:01\r\u001b[K     |██                              | 40 kB 9.1 MB/s eta 0:00:01\r\u001b[K     |██▌                             | 51 kB 5.2 MB/s eta 0:00:01\r\u001b[K     |███                             | 61 kB 5.2 MB/s eta 0:00:01\r\u001b[K     |███▌                            | 71 kB 5.5 MB/s eta 0:00:01\r\u001b[K     |████                            | 81 kB 6.2 MB/s eta 0:00:01\r\u001b[K     |████▋                           | 92 kB 6.1 MB/s eta 0:00:01\r\u001b[K     |█████                           | 102 kB 5.1 MB/s eta 0:00:01\r\u001b[K     |█████▋                          | 112 kB 5.1 MB/s eta 0:00:01\r\u001b[K     |██████                          | 122 kB 5.1 MB/s eta 0:00:01\r\u001b[K     |██████▋                         | 133 kB 5.1 MB/s eta 0:00:01\r\u001b[K     |███████                         | 143 kB 5.1 MB/s eta 0:00:01\r\u001b[K     |███████▋                        | 153 kB 5.1 MB/s eta 0:00:01\r\u001b[K     |████████▏                       | 163 kB 5.1 MB/s eta 0:00:01\r\u001b[K     |████████▋                       | 174 kB 5.1 MB/s eta 0:00:01\r\u001b[K     |█████████▏                      | 184 kB 5.1 MB/s eta 0:00:01\r\u001b[K     |█████████▋                      | 194 kB 5.1 MB/s eta 0:00:01\r\u001b[K     |██████████▏                     | 204 kB 5.1 MB/s eta 0:00:01\r\u001b[K     |██████████▋                     | 215 kB 5.1 MB/s eta 0:00:01\r\u001b[K     |███████████▏                    | 225 kB 5.1 MB/s eta 0:00:01\r\u001b[K     |███████████▋                    | 235 kB 5.1 MB/s eta 0:00:01\r\u001b[K     |████████████▏                   | 245 kB 5.1 MB/s eta 0:00:01\r\u001b[K     |████████████▊                   | 256 kB 5.1 MB/s eta 0:00:01\r\u001b[K     |█████████████▏                  | 266 kB 5.1 MB/s eta 0:00:01\r\u001b[K     |█████████████▊                  | 276 kB 5.1 MB/s eta 0:00:01\r\u001b[K     |██████████████▏                 | 286 kB 5.1 MB/s eta 0:00:01\r\u001b[K     |██████████████▊                 | 296 kB 5.1 MB/s eta 0:00:01\r\u001b[K     |███████████████▏                | 307 kB 5.1 MB/s eta 0:00:01\r\u001b[K     |███████████████▊                | 317 kB 5.1 MB/s eta 0:00:01\r\u001b[K     |████████████████▎               | 327 kB 5.1 MB/s eta 0:00:01\r\u001b[K     |████████████████▊               | 337 kB 5.1 MB/s eta 0:00:01\r\u001b[K     |█████████████████▎              | 348 kB 5.1 MB/s eta 0:00:01\r\u001b[K     |█████████████████▊              | 358 kB 5.1 MB/s eta 0:00:01\r\u001b[K     |██████████████████▎             | 368 kB 5.1 MB/s eta 0:00:01\r\u001b[K     |██████████████████▊             | 378 kB 5.1 MB/s eta 0:00:01\r\u001b[K     |███████████████████▎            | 389 kB 5.1 MB/s eta 0:00:01\r\u001b[K     |███████████████████▊            | 399 kB 5.1 MB/s eta 0:00:01\r\u001b[K     |████████████████████▎           | 409 kB 5.1 MB/s eta 0:00:01\r\u001b[K     |████████████████████▉           | 419 kB 5.1 MB/s eta 0:00:01\r\u001b[K     |█████████████████████▎          | 430 kB 5.1 MB/s eta 0:00:01\r\u001b[K     |█████████████████████▉          | 440 kB 5.1 MB/s eta 0:00:01\r\u001b[K     |██████████████████████▎         | 450 kB 5.1 MB/s eta 0:00:01\r\u001b[K     |██████████████████████▉         | 460 kB 5.1 MB/s eta 0:00:01\r\u001b[K     |███████████████████████▎        | 471 kB 5.1 MB/s eta 0:00:01\r\u001b[K     |███████████████████████▉        | 481 kB 5.1 MB/s eta 0:00:01\r\u001b[K     |████████████████████████▍       | 491 kB 5.1 MB/s eta 0:00:01\r\u001b[K     |████████████████████████▉       | 501 kB 5.1 MB/s eta 0:00:01\r\u001b[K     |█████████████████████████▍      | 512 kB 5.1 MB/s eta 0:00:01\r\u001b[K     |█████████████████████████▉      | 522 kB 5.1 MB/s eta 0:00:01\r\u001b[K     |██████████████████████████▍     | 532 kB 5.1 MB/s eta 0:00:01\r\u001b[K     |██████████████████████████▉     | 542 kB 5.1 MB/s eta 0:00:01\r\u001b[K     |███████████████████████████▍    | 552 kB 5.1 MB/s eta 0:00:01\r\u001b[K     |███████████████████████████▉    | 563 kB 5.1 MB/s eta 0:00:01\r\u001b[K     |████████████████████████████▍   | 573 kB 5.1 MB/s eta 0:00:01\r\u001b[K     |█████████████████████████████   | 583 kB 5.1 MB/s eta 0:00:01\r\u001b[K     |█████████████████████████████▍  | 593 kB 5.1 MB/s eta 0:00:01\r\u001b[K     |██████████████████████████████  | 604 kB 5.1 MB/s eta 0:00:01\r\u001b[K     |██████████████████████████████▍ | 614 kB 5.1 MB/s eta 0:00:01\r\u001b[K     |███████████████████████████████ | 624 kB 5.1 MB/s eta 0:00:01\r\u001b[K     |███████████████████████████████▍| 634 kB 5.1 MB/s eta 0:00:01\r\u001b[K     |████████████████████████████████| 645 kB 5.1 MB/s eta 0:00:01\r\u001b[K     |████████████████████████████████| 646 kB 5.1 MB/s \n",
            "\u001b[?25hBuilding wheels for collected packages: annoy\n",
            "  Building wheel for annoy (setup.py) ... \u001b[?25l\u001b[?25hdone\n",
            "  Created wheel for annoy: filename=annoy-1.17.0-cp37-cp37m-linux_x86_64.whl size=391689 sha256=99948243db5385efecc6e85d9ab203f4576a5736e236083a72a49cc5344f03c7\n",
            "  Stored in directory: /root/.cache/pip/wheels/4f/e8/1e/7cc9ebbfa87a3b9f8ba79408d4d31831d67eea918b679a4c07\n",
            "Successfully built annoy\n",
            "Installing collected packages: annoy\n",
            "Successfully installed annoy-1.17.0\n"
          ]
        }
      ]
    },
    {
      "cell_type": "code",
      "metadata": {
        "colab": {
          "base_uri": "https://localhost:8080/"
        },
        "id": "BTNJo6PUKww5",
        "outputId": "caf47b34-2458-4818-92f2-99b54162608d"
      },
      "source": [
        "digits = load_digits(n_class=5)\n",
        "X = digits.data\n",
        "y = digits.target\n",
        "n_samples, n_features = X.shape\n",
        "X.shape"
      ],
      "execution_count": 6,
      "outputs": [
        {
          "output_type": "execute_result",
          "data": {
            "text/plain": [
              "(901, 64)"
            ]
          },
          "metadata": {},
          "execution_count": 6
        }
      ]
    },
    {
      "cell_type": "code",
      "metadata": {
        "colab": {
          "base_uri": "https://localhost:8080/",
          "height": 400
        },
        "id": "DdZSkrMZKzWr",
        "outputId": "8201c0f9-a1be-414d-96c9-dd35c9985844"
      },
      "source": [
        "fig, axs = plt.subplots(nrows=10, ncols=10, figsize=(6, 6))\n",
        "for idx, ax in enumerate(axs.ravel()):\n",
        "    ax.imshow(X[idx].reshape((8, 8)), cmap=plt.cm.binary)\n",
        "    ax.axis(\"off\")\n",
        "_ = fig.suptitle(\"Digits dataset\", fontsize=16)"
      ],
      "execution_count": 7,
      "outputs": [
        {
          "output_type": "display_data",
          "data": {
            "image/png": "[encoded data removed]",
            "text/plain": [
              "<Figure size 432x432 with 100 Axes>"
            ]
          },
          "metadata": {
            "needs_background": "light"
          }
        }
      ]
    },
    {
      "cell_type": "code",
      "metadata": {
        "colab": {
          "base_uri": "https://localhost:8080/"
        },
        "id": "nT5PKLOnK4yP",
        "outputId": "46364f10-cf8b-48ec-ea2e-ebd3bed71e7d"
      },
      "source": [
        "from sklearn.manifold import TSNE\n",
        "\n",
        "tsne_2 = TSNE()\n",
        "data_embeddings_tsne_2 = tsne_2.fit_transform(X)"
      ],
      "execution_count": 8,
      "outputs": [
        {
          "output_type": "stream",
          "name": "stderr",
          "text": [
            "/usr/local/lib/python3.7/dist-packages/sklearn/manifold/_t_sne.py:783: FutureWarning: The default initialization in TSNE will change from 'random' to 'pca' in 1.2.\n",
            "  FutureWarning,\n",
            "/usr/local/lib/python3.7/dist-packages/sklearn/manifold/_t_sne.py:793: FutureWarning: The default learning rate in TSNE will change from 200.0 to 'auto' in 1.2.\n",
            "  FutureWarning,\n"
          ]
        }
      ]
    },
    {
      "cell_type": "code",
      "metadata": {
        "colab": {
          "base_uri": "https://localhost:8080/"
        },
        "id": "85_0WnwsK8bs",
        "outputId": "5c4db090-1cbf-4f27-e7b4-9949651f7db8"
      },
      "source": [
        "data_embeddings_tsne_2.shape"
      ],
      "execution_count": 9,
      "outputs": [
        {
          "output_type": "execute_result",
          "data": {
            "text/plain": [
              "(901, 2)"
            ]
          },
          "metadata": {},
          "execution_count": 9
        }
      ]
    },
    {
      "cell_type": "code",
      "metadata": {
        "id": "i0tCD0r3LBnR"
      },
      "source": [
        "import nmslib"
      ],
      "execution_count": 10,
      "outputs": []
    },
    {
      "cell_type": "code",
      "metadata": {
        "id": "ElAyYNm-LEyR"
      },
      "source": [
        "hnsw_index = nmslib.init(method='hnsw', space='cosinesimil')\n",
        "hnsw_index.addDataPointBatch(data_embeddings_tsne_2)\n",
        "hnsw_index.createIndex({'post': 2})"
      ],
      "execution_count": 11,
      "outputs": []
    },
    {
      "cell_type": "code",
      "metadata": {
        "colab": {
          "base_uri": "https://localhost:8080/"
        },
        "id": "pUxx8NnDLHVa",
        "outputId": "c8818d15-beda-4990-e736-6f97a5d16737"
      },
      "source": [
        "y[80]"
      ],
      "execution_count": 12,
      "outputs": [
        {
          "output_type": "execute_result",
          "data": {
            "text/plain": [
              "0"
            ]
          },
          "metadata": {},
          "execution_count": 12
        }
      ]
    },
    {
      "cell_type": "code",
      "metadata": {
        "colab": {
          "base_uri": "https://localhost:8080/"
        },
        "id": "9hkL4IoQLIuH",
        "outputId": "07983b05-3ab7-403e-f2af-637df7c7f202"
      },
      "source": [
        "hnsw_output = hnsw_index.knnQuery(data_embeddings_tsne_2[80], k=10)\n",
        "hnsw_output_list = [y[i] for i in hnsw_output[0]]\n",
        "hnsw_output_list"
      ],
      "execution_count": 13,
      "outputs": [
        {
          "output_type": "execute_result",
          "data": {
            "text/plain": [
              "[0, 0, 0, 0, 0, 0, 0, 0, 0, 0]"
            ]
          },
          "metadata": {},
          "execution_count": 13
        }
      ]
    },
    {
      "cell_type": "code",
      "metadata": {
        "id": "1AA3km6TLK8B"
      },
      "source": [
        "import faiss"
      ],
      "execution_count": 14,
      "outputs": []
    },
    {
      "cell_type": "code",
      "metadata": {
        "id": "UACbIq--LOfk"
      },
      "source": [
        "exhaustive_search = faiss.IndexFlatL2(data_embeddings_tsne_2.shape[1])\n",
        "exhaustive_search.add(data_embeddings_tsne_2)"
      ],
      "execution_count": 15,
      "outputs": []
    },
    {
      "cell_type": "code",
      "metadata": {
        "id": "DVgaEAWmLQDQ"
      },
      "source": [
        "distances, indices = exhaustive_search.search(data_embeddings_tsne_2[80:81], 10) \n",
        "exhaustive_search_output_list = [y[i] for i in indices[0]]"
      ],
      "execution_count": 16,
      "outputs": []
    },
    {
      "cell_type": "code",
      "metadata": {
        "colab": {
          "base_uri": "https://localhost:8080/"
        },
        "id": "Ao44huZNLTPZ",
        "outputId": "fd967bc2-b245-405c-8c35-68ca1494955e"
      },
      "source": [
        "exhaustive_search_output_list"
      ],
      "execution_count": 17,
      "outputs": [
        {
          "output_type": "execute_result",
          "data": {
            "text/plain": [
              "[0, 0, 0, 0, 0, 0, 0, 0, 0, 0]"
            ]
          },
          "metadata": {},
          "execution_count": 17
        }
      ]
    },
    {
      "cell_type": "code",
      "metadata": {
        "id": "meMzE4KwLUH7"
      },
      "source": [
        "number_of_partition = 8\n",
        "search_in_x_partitions = 2\n",
        "subvector_size = 8\n",
        "\n",
        "pq_quantizer = faiss.IndexFlatL2(data_embeddings_tsne_2.shape[1])\n",
        "pq = faiss.IndexIVFPQ(pq_quantizer, data_embeddings_tsne_2.shape[1], number_of_partition, search_in_x_partitions, subvector_size)\n",
        "pq.train(data_embeddings_tsne_2)\n",
        "pq.add(data_embeddings_tsne_2)"
      ],
      "execution_count": 18,
      "outputs": []
    },
    {
      "cell_type": "code",
      "metadata": {
        "colab": {
          "base_uri": "https://localhost:8080/"
        },
        "id": "apow1cpyLZN2",
        "outputId": "e44ff0a8-d518-481e-df1f-ed6c68917b95"
      },
      "source": [
        "distances, indices = pq.search(data_embeddings_tsne_2[90:91], 10) \n",
        "pq_output_list =  [y[i] for i in indices[0]]\n",
        "pq_output_list"
      ],
      "execution_count": 19,
      "outputs": [
        {
          "output_type": "execute_result",
          "data": {
            "text/plain": [
              "[2, 2, 2, 2, 2, 2, 2, 2, 2, 2]"
            ]
          },
          "metadata": {},
          "execution_count": 19
        }
      ]
    },
    {
      "cell_type": "code",
      "metadata": {
        "id": "eZ9rYUNiLcaa"
      },
      "source": [
        "lsh = faiss.IndexLSH(data_embeddings_tsne_2.shape[1], 4)\n",
        "lsh.add(data_embeddings_tsne_2)"
      ],
      "execution_count": 20,
      "outputs": []
    },
    {
      "cell_type": "code",
      "metadata": {
        "colab": {
          "base_uri": "https://localhost:8080/"
        },
        "id": "Av4PkQb2LfFI",
        "outputId": "76ffb925-f1a3-4e9f-bd54-08bb252f021a"
      },
      "source": [
        "distances, indices = lsh.search(data_embeddings_tsne_2[80:81], k=10)\n",
        "lsh_output_list =  [y[i] for i in indices[0]]\n",
        "lsh_output_list"
      ],
      "execution_count": 21,
      "outputs": [
        {
          "output_type": "execute_result",
          "data": {
            "text/plain": [
              "[0, 0, 0, 2, 0, 0, 0, 0, 0, 0]"
            ]
          },
          "metadata": {},
          "execution_count": 21
        }
      ]
    },
    {
      "cell_type": "code",
      "metadata": {
        "id": "LAQiS5N9LhGC"
      },
      "source": [
        "import annoy"
      ],
      "execution_count": 22,
      "outputs": []
    },
    {
      "cell_type": "code",
      "metadata": {
        "colab": {
          "base_uri": "https://localhost:8080/"
        },
        "id": "khHw9x8yLi6f",
        "outputId": "00923f67-ee56-4a54-c168-09e1942f7e02"
      },
      "source": [
        "number_of_trees = 5\n",
        "annoy_index = annoy.AnnoyIndex(data_embeddings_tsne_2.shape[1])\n",
        "for i, vec in enumerate(data_embeddings_tsne_2):\n",
        "  annoy_index.add_item(i, vec.tolist())\n",
        "annoy_index.build(number_of_trees)"
      ],
      "execution_count": 23,
      "outputs": [
        {
          "output_type": "stream",
          "name": "stderr",
          "text": [
            "/usr/local/lib/python3.7/dist-packages/ipykernel_launcher.py:2: FutureWarning: The default argument for metric will be removed in future version of Annoy. Please pass metric='angular' explicitly.\n",
            "  \n"
          ]
        },
        {
          "output_type": "execute_result",
          "data": {
            "text/plain": [
              "True"
            ]
          },
          "metadata": {},
          "execution_count": 23
        }
      ]
    },
    {
      "cell_type": "code",
      "metadata": {
        "id": "nq8z8gNALjoG"
      },
      "source": [
        "annoy_indices = annoy_index.get_nns_by_vector(data_embeddings_tsne_2[90].tolist(), 10)\n",
        "annoy_output_list = [y[i] for i in annoy_indices]"
      ],
      "execution_count": 24,
      "outputs": []
    },
    {
      "cell_type": "code",
      "metadata": {
        "colab": {
          "base_uri": "https://localhost:8080/"
        },
        "id": "wJqg-2naLoxb",
        "outputId": "8f89870b-c593-40b6-8784-52ef73a6f67d"
      },
      "source": [
        "annoy_output_list"
      ],
      "execution_count": 25,
      "outputs": [
        {
          "output_type": "execute_result",
          "data": {
            "text/plain": [
              "[2, 2, 0, 0, 0, 0, 0, 0, 0, 0]"
            ]
          },
          "metadata": {},
          "execution_count": 25
        }
      ]
    },
    {
      "cell_type": "code",
      "metadata": {
        "colab": {
          "base_uri": "https://localhost:8080/"
        },
        "id": "Bf17YWu_LrKo",
        "outputId": "d94ab1c9-bd18-4486-ded1-a84f07b71f23"
      },
      "source": [
        "graph_index = faiss.IndexHNSWFlat(data_embeddings_tsne_2.shape[1], 10)\n",
        "graph_index.add(data_embeddings_tsne_2)\n",
        "\n",
        "distances, indices = graph_index.search(data_embeddings_tsne_2[90:91], k=10)\n",
        "graph_output_list = [y[i] for i in indices[0]]\n",
        "graph_output_list"
      ],
      "execution_count": 26,
      "outputs": [
        {
          "output_type": "execute_result",
          "data": {
            "text/plain": [
              "[2, 2, 2, 2, 2, 2, 2, 2, 2, 2]"
            ]
          },
          "metadata": {},
          "execution_count": 26
        }
      ]
    },
    {
      "cell_type": "markdown",
      "metadata": {
        "id": "U6Fj8y5MQDva"
      },
      "source": [
        "**REFERENCES**\n",
        "\n",
        "https://colab.research.google.com/github/tensorflow/hub/blob/master/examples/colab/semantic_approximate_nearest_neighbors.ipynb\n",
        "\n",
        "https://www.youtube.com/watch?v=OO7Y5wQWnQs&ab_channel=ProgrammingKnowledge\n",
        "\n",
        "https://github.com/spotify/annoy\n",
        "\n",
        "https://www.youtube.com/watch?v=7_CIQf73Oj0&ab_channel=wiqaaas"
      ]
    }
  ]
}